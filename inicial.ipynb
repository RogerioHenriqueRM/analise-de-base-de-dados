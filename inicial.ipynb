version https://git-lfs.github.com/spec/v1
oid sha256:31f0871b35f813ee45505be02ff5e88569526c23f6f8149f14b4f46e4d65ef3b
size 129212008
